{
  "nbformat": 4,
  "nbformat_minor": 0,
  "metadata": {
    "kernelspec": {
      "display_name": "Python 3",
      "language": "python",
      "name": "python3"
    },
    "language_info": {
      "codemirror_mode": {
        "name": "ipython",
        "version": 3
      },
      "file_extension": ".py",
      "mimetype": "text/x-python",
      "name": "python",
      "nbconvert_exporter": "python",
      "pygments_lexer": "ipython3",
      "version": "3.8.10"
    },
    "colab": {
      "name": "fake-news-detection.ipynb",
      "provenance": [],
      "include_colab_link": true
    }
  },
  "cells": [
    {
      "cell_type": "markdown",
      "metadata": {
        "id": "view-in-github",
        "colab_type": "text"
      },
      "source": [
        "<a href=\"https://colab.research.google.com/github/vishalkumarsingh999/NLP/blob/main/fake_news_detection.ipynb\" target=\"_parent\"><img src=\"https://colab.research.google.com/assets/colab-badge.svg\" alt=\"Open In Colab\"/></a>"
      ]
    },
    {
      "cell_type": "markdown",
      "metadata": {
        "id": "Y4nljlS9r9kJ"
      },
      "source": [
        "# Fake News Detection"
      ]
    },
    {
      "cell_type": "markdown",
      "metadata": {
        "id": "ub5GAT3Br9kO"
      },
      "source": [
        "First import all the libraries/packages which are necessary. To analyse the given dataset\n",
        "\n",
        "In Python, there is no data type called array. In order to implement the data type of array with python, numpy and scipy are the essential libraries for analyzing and calculating data. They are all open source libraries. Numpy is mainly used for the matrix calculation. scipy is developed based on numpy and it is mainly used for scientific research. Mathplotlib is a famous library for plotting in Python. It provides a series of API and it is suitable for making interactive mapping. In this case, we need to use it to find the best result visually.\n",
        "\n",
        "By using them in Python programming, they can be used with two simple commands:"
      ]
    },
    {
      "cell_type": "markdown",
      "metadata": {
        "id": "Lij4e7t5r9kP"
      },
      "source": [
        "## Importing Libraries"
      ]
    },
    {
      "cell_type": "code",
      "metadata": {
        "execution": {
          "iopub.execute_input": "2021-10-10T14:59:24.268863Z",
          "iopub.status.busy": "2021-10-10T14:59:24.268463Z",
          "iopub.status.idle": "2021-10-10T14:59:24.274056Z",
          "shell.execute_reply": "2021-10-10T14:59:24.272976Z",
          "shell.execute_reply.started": "2021-10-10T14:59:24.268828Z"
        },
        "id": "e0z09bufr9kQ"
      },
      "source": [
        "import pandas as pd\n",
        "import numpy as np\n",
        "import seaborn as sns\n",
        "import matplotlib.pyplot as plt\n",
        "from sklearn.model_selection import train_test_split\n",
        "from sklearn.metrics import accuracy_score\n",
        "from sklearn.metrics import classification_report\n",
        "import re\n",
        "import string\n",
        "from wordcloud import WordCloud"
      ],
      "execution_count": null,
      "outputs": []
    },
    {
      "cell_type": "markdown",
      "metadata": {
        "id": "GoIE5HI0r9kR"
      },
      "source": [
        "## Importing Dataset"
      ]
    },
    {
      "cell_type": "code",
      "metadata": {
        "execution": {
          "iopub.execute_input": "2021-10-10T14:59:24.276039Z",
          "iopub.status.busy": "2021-10-10T14:59:24.275615Z",
          "iopub.status.idle": "2021-10-10T14:59:25.738090Z",
          "shell.execute_reply": "2021-10-10T14:59:25.737211Z",
          "shell.execute_reply.started": "2021-10-10T14:59:24.276001Z"
        },
        "id": "FhAusuMyr9kS"
      },
      "source": [
        "df_fake = pd.read_csv(\"Fake.csv\")\n",
        "df_true = pd.read_csv(\"True.csv\")"
      ],
      "execution_count": null,
      "outputs": []
    },
    {
      "cell_type": "markdown",
      "metadata": {
        "id": "XsqGlJfxr9kS"
      },
      "source": [
        "Data Cleaning means the process of identifying the incorrect, incomplete, inaccurate, irrelevant or missing part of the data and then modifying, replacing or deleting them according to the necessity. Data cleaning is considered a foundational element of the basic data science. \n",
        "\n",
        "Data is the most valuable thing for Analytics and Machine learning. In computing or Business data is needed everywhere. When it comes to the real world data, it is not improbable that data may contain incomplete, inconsistent or missing values. If the data is corrupted then it may hinder the process or provide inaccurate results."
      ]
    },
    {
      "cell_type": "code",
      "metadata": {
        "execution": {
          "iopub.execute_input": "2021-10-10T14:59:25.739687Z",
          "iopub.status.busy": "2021-10-10T14:59:25.739240Z",
          "iopub.status.idle": "2021-10-10T14:59:25.751772Z",
          "shell.execute_reply": "2021-10-10T14:59:25.750984Z",
          "shell.execute_reply.started": "2021-10-10T14:59:25.739654Z"
        },
        "id": "5FrBsS5Vr9kT",
        "outputId": "c5046da1-d628-48dd-fd68-72f1500f83a4"
      },
      "source": [
        "df_fake.head(5)"
      ],
      "execution_count": null,
      "outputs": [
        {
          "data": {
            "text/html": [
              "<div>\n",
              "<style scoped>\n",
              "    .dataframe tbody tr th:only-of-type {\n",
              "        vertical-align: middle;\n",
              "    }\n",
              "\n",
              "    .dataframe tbody tr th {\n",
              "        vertical-align: top;\n",
              "    }\n",
              "\n",
              "    .dataframe thead th {\n",
              "        text-align: right;\n",
              "    }\n",
              "</style>\n",
              "<table border=\"1\" class=\"dataframe\">\n",
              "  <thead>\n",
              "    <tr style=\"text-align: right;\">\n",
              "      <th></th>\n",
              "      <th>title</th>\n",
              "      <th>text</th>\n",
              "      <th>subject</th>\n",
              "      <th>date</th>\n",
              "    </tr>\n",
              "  </thead>\n",
              "  <tbody>\n",
              "    <tr>\n",
              "      <th>0</th>\n",
              "      <td>Donald Trump Sends Out Embarrassing New Year’...</td>\n",
              "      <td>Donald Trump just couldn t wish all Americans ...</td>\n",
              "      <td>News</td>\n",
              "      <td>December 31, 2017</td>\n",
              "    </tr>\n",
              "    <tr>\n",
              "      <th>1</th>\n",
              "      <td>Drunk Bragging Trump Staffer Started Russian ...</td>\n",
              "      <td>House Intelligence Committee Chairman Devin Nu...</td>\n",
              "      <td>News</td>\n",
              "      <td>December 31, 2017</td>\n",
              "    </tr>\n",
              "    <tr>\n",
              "      <th>2</th>\n",
              "      <td>Sheriff David Clarke Becomes An Internet Joke...</td>\n",
              "      <td>On Friday, it was revealed that former Milwauk...</td>\n",
              "      <td>News</td>\n",
              "      <td>December 30, 2017</td>\n",
              "    </tr>\n",
              "    <tr>\n",
              "      <th>3</th>\n",
              "      <td>Trump Is So Obsessed He Even Has Obama’s Name...</td>\n",
              "      <td>On Christmas day, Donald Trump announced that ...</td>\n",
              "      <td>News</td>\n",
              "      <td>December 29, 2017</td>\n",
              "    </tr>\n",
              "    <tr>\n",
              "      <th>4</th>\n",
              "      <td>Pope Francis Just Called Out Donald Trump Dur...</td>\n",
              "      <td>Pope Francis used his annual Christmas Day mes...</td>\n",
              "      <td>News</td>\n",
              "      <td>December 25, 2017</td>\n",
              "    </tr>\n",
              "  </tbody>\n",
              "</table>\n",
              "</div>"
            ],
            "text/plain": [
              "                                               title  \\\n",
              "0   Donald Trump Sends Out Embarrassing New Year’...   \n",
              "1   Drunk Bragging Trump Staffer Started Russian ...   \n",
              "2   Sheriff David Clarke Becomes An Internet Joke...   \n",
              "3   Trump Is So Obsessed He Even Has Obama’s Name...   \n",
              "4   Pope Francis Just Called Out Donald Trump Dur...   \n",
              "\n",
              "                                                text subject  \\\n",
              "0  Donald Trump just couldn t wish all Americans ...    News   \n",
              "1  House Intelligence Committee Chairman Devin Nu...    News   \n",
              "2  On Friday, it was revealed that former Milwauk...    News   \n",
              "3  On Christmas day, Donald Trump announced that ...    News   \n",
              "4  Pope Francis used his annual Christmas Day mes...    News   \n",
              "\n",
              "                date  \n",
              "0  December 31, 2017  \n",
              "1  December 31, 2017  \n",
              "2  December 30, 2017  \n",
              "3  December 29, 2017  \n",
              "4  December 25, 2017  "
            ]
          },
          "execution_count": 3,
          "metadata": {},
          "output_type": "execute_result"
        }
      ]
    },
    {
      "cell_type": "code",
      "metadata": {
        "execution": {
          "iopub.execute_input": "2021-10-10T14:59:25.753259Z",
          "iopub.status.busy": "2021-10-10T14:59:25.753002Z",
          "iopub.status.idle": "2021-10-10T14:59:25.770849Z",
          "shell.execute_reply": "2021-10-10T14:59:25.769693Z",
          "shell.execute_reply.started": "2021-10-10T14:59:25.753234Z"
        },
        "id": "qT8IZSACr9kU",
        "outputId": "53ee3cf0-37cc-4a97-950b-f051f4494a6c"
      },
      "source": [
        "df_true.head(5)"
      ],
      "execution_count": null,
      "outputs": [
        {
          "data": {
            "text/html": [
              "<div>\n",
              "<style scoped>\n",
              "    .dataframe tbody tr th:only-of-type {\n",
              "        vertical-align: middle;\n",
              "    }\n",
              "\n",
              "    .dataframe tbody tr th {\n",
              "        vertical-align: top;\n",
              "    }\n",
              "\n",
              "    .dataframe thead th {\n",
              "        text-align: right;\n",
              "    }\n",
              "</style>\n",
              "<table border=\"1\" class=\"dataframe\">\n",
              "  <thead>\n",
              "    <tr style=\"text-align: right;\">\n",
              "      <th></th>\n",
              "      <th>title</th>\n",
              "      <th>text</th>\n",
              "      <th>subject</th>\n",
              "      <th>date</th>\n",
              "    </tr>\n",
              "  </thead>\n",
              "  <tbody>\n",
              "    <tr>\n",
              "      <th>0</th>\n",
              "      <td>As U.S. budget fight looms, Republicans flip t...</td>\n",
              "      <td>WASHINGTON (Reuters) - The head of a conservat...</td>\n",
              "      <td>politicsNews</td>\n",
              "      <td>December 31, 2017</td>\n",
              "    </tr>\n",
              "    <tr>\n",
              "      <th>1</th>\n",
              "      <td>U.S. military to accept transgender recruits o...</td>\n",
              "      <td>WASHINGTON (Reuters) - Transgender people will...</td>\n",
              "      <td>politicsNews</td>\n",
              "      <td>December 29, 2017</td>\n",
              "    </tr>\n",
              "    <tr>\n",
              "      <th>2</th>\n",
              "      <td>Senior U.S. Republican senator: 'Let Mr. Muell...</td>\n",
              "      <td>WASHINGTON (Reuters) - The special counsel inv...</td>\n",
              "      <td>politicsNews</td>\n",
              "      <td>December 31, 2017</td>\n",
              "    </tr>\n",
              "    <tr>\n",
              "      <th>3</th>\n",
              "      <td>FBI Russia probe helped by Australian diplomat...</td>\n",
              "      <td>WASHINGTON (Reuters) - Trump campaign adviser ...</td>\n",
              "      <td>politicsNews</td>\n",
              "      <td>December 30, 2017</td>\n",
              "    </tr>\n",
              "    <tr>\n",
              "      <th>4</th>\n",
              "      <td>Trump wants Postal Service to charge 'much mor...</td>\n",
              "      <td>SEATTLE/WASHINGTON (Reuters) - President Donal...</td>\n",
              "      <td>politicsNews</td>\n",
              "      <td>December 29, 2017</td>\n",
              "    </tr>\n",
              "  </tbody>\n",
              "</table>\n",
              "</div>"
            ],
            "text/plain": [
              "                                               title  \\\n",
              "0  As U.S. budget fight looms, Republicans flip t...   \n",
              "1  U.S. military to accept transgender recruits o...   \n",
              "2  Senior U.S. Republican senator: 'Let Mr. Muell...   \n",
              "3  FBI Russia probe helped by Australian diplomat...   \n",
              "4  Trump wants Postal Service to charge 'much mor...   \n",
              "\n",
              "                                                text       subject  \\\n",
              "0  WASHINGTON (Reuters) - The head of a conservat...  politicsNews   \n",
              "1  WASHINGTON (Reuters) - Transgender people will...  politicsNews   \n",
              "2  WASHINGTON (Reuters) - The special counsel inv...  politicsNews   \n",
              "3  WASHINGTON (Reuters) - Trump campaign adviser ...  politicsNews   \n",
              "4  SEATTLE/WASHINGTON (Reuters) - President Donal...  politicsNews   \n",
              "\n",
              "                 date  \n",
              "0  December 31, 2017   \n",
              "1  December 29, 2017   \n",
              "2  December 31, 2017   \n",
              "3  December 30, 2017   \n",
              "4  December 29, 2017   "
            ]
          },
          "execution_count": 4,
          "metadata": {},
          "output_type": "execute_result"
        }
      ]
    },
    {
      "cell_type": "markdown",
      "metadata": {
        "id": "4CMIvLGFr9kV"
      },
      "source": [
        "## Inserting a column \"class\" as target feature"
      ]
    },
    {
      "cell_type": "code",
      "metadata": {
        "execution": {
          "iopub.execute_input": "2021-10-10T14:59:25.775257Z",
          "iopub.status.busy": "2021-10-10T14:59:25.774964Z",
          "iopub.status.idle": "2021-10-10T14:59:25.783306Z",
          "shell.execute_reply": "2021-10-10T14:59:25.782562Z",
          "shell.execute_reply.started": "2021-10-10T14:59:25.775229Z"
        },
        "id": "xqfMNy9Jr9kV"
      },
      "source": [
        "df_fake[\"class\"] = 0\n",
        "df_true[\"class\"] = 1"
      ],
      "execution_count": null,
      "outputs": []
    },
    {
      "cell_type": "code",
      "metadata": {
        "execution": {
          "iopub.execute_input": "2021-10-10T14:59:25.787957Z",
          "iopub.status.busy": "2021-10-10T14:59:25.787590Z",
          "iopub.status.idle": "2021-10-10T14:59:25.797259Z",
          "shell.execute_reply": "2021-10-10T14:59:25.796312Z",
          "shell.execute_reply.started": "2021-10-10T14:59:25.787923Z"
        },
        "id": "1SEva_hZr9kW",
        "outputId": "cc6ac7ed-bc06-4160-e834-185cb0186453"
      },
      "source": [
        "df_fake.shape, df_true.shape"
      ],
      "execution_count": null,
      "outputs": [
        {
          "data": {
            "text/plain": [
              "((23481, 5), (21417, 5))"
            ]
          },
          "execution_count": 6,
          "metadata": {},
          "output_type": "execute_result"
        }
      ]
    },
    {
      "cell_type": "code",
      "metadata": {
        "execution": {
          "iopub.execute_input": "2021-10-10T14:59:25.799566Z",
          "iopub.status.busy": "2021-10-10T14:59:25.799131Z",
          "iopub.status.idle": "2021-10-10T14:59:25.874723Z",
          "shell.execute_reply": "2021-10-10T14:59:25.873555Z",
          "shell.execute_reply.started": "2021-10-10T14:59:25.799519Z"
        },
        "id": "Uh9act0Br9kW"
      },
      "source": [
        "# Removing last 10 rows for manual testing\n",
        "df_fake_manual_testing = df_fake.tail(10)\n",
        "for i in range(23480,23470,-1):\n",
        "    df_fake.drop([i], axis = 0, inplace = True)\n",
        "    \n",
        "    \n",
        "df_true_manual_testing = df_true.tail(10)\n",
        "for i in range(21416,21406,-1):\n",
        "    df_true.drop([i], axis = 0, inplace = True)"
      ],
      "execution_count": null,
      "outputs": []
    },
    {
      "cell_type": "code",
      "metadata": {
        "execution": {
          "iopub.execute_input": "2021-10-10T14:59:25.876470Z",
          "iopub.status.busy": "2021-10-10T14:59:25.876184Z",
          "iopub.status.idle": "2021-10-10T14:59:25.883187Z",
          "shell.execute_reply": "2021-10-10T14:59:25.882070Z",
          "shell.execute_reply.started": "2021-10-10T14:59:25.876441Z"
        },
        "id": "JhLIukPor9kX",
        "outputId": "5fb52066-bca1-4e5f-d469-55f4ae6d5c02"
      },
      "source": [
        "df_fake.shape, df_true.shape"
      ],
      "execution_count": null,
      "outputs": [
        {
          "data": {
            "text/plain": [
              "((23471, 5), (21407, 5))"
            ]
          },
          "execution_count": 8,
          "metadata": {},
          "output_type": "execute_result"
        }
      ]
    },
    {
      "cell_type": "markdown",
      "metadata": {
        "id": "X_5q9buwr9kX"
      },
      "source": [
        "# Data Exploration"
      ]
    },
    {
      "cell_type": "code",
      "metadata": {
        "execution": {
          "iopub.execute_input": "2021-10-10T14:59:25.897799Z",
          "iopub.status.busy": "2021-10-10T14:59:25.897095Z",
          "iopub.status.idle": "2021-10-10T14:59:25.918254Z",
          "shell.execute_reply": "2021-10-10T14:59:25.917260Z",
          "shell.execute_reply.started": "2021-10-10T14:59:25.897752Z"
        },
        "id": "r-oCjog1r9kX",
        "outputId": "f9e378b6-4f92-4af6-85ae-7083da8b38da"
      },
      "source": [
        "df_fake_manual_testing.head(10)"
      ],
      "execution_count": null,
      "outputs": [
        {
          "data": {
            "text/html": [
              "<div>\n",
              "<style scoped>\n",
              "    .dataframe tbody tr th:only-of-type {\n",
              "        vertical-align: middle;\n",
              "    }\n",
              "\n",
              "    .dataframe tbody tr th {\n",
              "        vertical-align: top;\n",
              "    }\n",
              "\n",
              "    .dataframe thead th {\n",
              "        text-align: right;\n",
              "    }\n",
              "</style>\n",
              "<table border=\"1\" class=\"dataframe\">\n",
              "  <thead>\n",
              "    <tr style=\"text-align: right;\">\n",
              "      <th></th>\n",
              "      <th>title</th>\n",
              "      <th>text</th>\n",
              "      <th>subject</th>\n",
              "      <th>date</th>\n",
              "      <th>class</th>\n",
              "    </tr>\n",
              "  </thead>\n",
              "  <tbody>\n",
              "    <tr>\n",
              "      <th>23471</th>\n",
              "      <td>Seven Iranians freed in the prisoner swap have...</td>\n",
              "      <td>21st Century Wire says This week, the historic...</td>\n",
              "      <td>Middle-east</td>\n",
              "      <td>January 20, 2016</td>\n",
              "      <td>0</td>\n",
              "    </tr>\n",
              "    <tr>\n",
              "      <th>23472</th>\n",
              "      <td>#Hashtag Hell &amp; The Fake Left</td>\n",
              "      <td>By Dady Chery and Gilbert MercierAll writers ...</td>\n",
              "      <td>Middle-east</td>\n",
              "      <td>January 19, 2016</td>\n",
              "      <td>0</td>\n",
              "    </tr>\n",
              "    <tr>\n",
              "      <th>23473</th>\n",
              "      <td>Astroturfing: Journalist Reveals Brainwashing ...</td>\n",
              "      <td>Vic Bishop Waking TimesOur reality is carefull...</td>\n",
              "      <td>Middle-east</td>\n",
              "      <td>January 19, 2016</td>\n",
              "      <td>0</td>\n",
              "    </tr>\n",
              "    <tr>\n",
              "      <th>23474</th>\n",
              "      <td>The New American Century: An Era of Fraud</td>\n",
              "      <td>Paul Craig RobertsIn the last years of the 20t...</td>\n",
              "      <td>Middle-east</td>\n",
              "      <td>January 19, 2016</td>\n",
              "      <td>0</td>\n",
              "    </tr>\n",
              "    <tr>\n",
              "      <th>23475</th>\n",
              "      <td>Hillary Clinton: ‘Israel First’ (and no peace ...</td>\n",
              "      <td>Robert Fantina CounterpunchAlthough the United...</td>\n",
              "      <td>Middle-east</td>\n",
              "      <td>January 18, 2016</td>\n",
              "      <td>0</td>\n",
              "    </tr>\n",
              "    <tr>\n",
              "      <th>23476</th>\n",
              "      <td>McPain: John McCain Furious That Iran Treated ...</td>\n",
              "      <td>21st Century Wire says As 21WIRE reported earl...</td>\n",
              "      <td>Middle-east</td>\n",
              "      <td>January 16, 2016</td>\n",
              "      <td>0</td>\n",
              "    </tr>\n",
              "    <tr>\n",
              "      <th>23477</th>\n",
              "      <td>JUSTICE? Yahoo Settles E-mail Privacy Class-ac...</td>\n",
              "      <td>21st Century Wire says It s a familiar theme. ...</td>\n",
              "      <td>Middle-east</td>\n",
              "      <td>January 16, 2016</td>\n",
              "      <td>0</td>\n",
              "    </tr>\n",
              "    <tr>\n",
              "      <th>23478</th>\n",
              "      <td>Sunnistan: US and Allied ‘Safe Zone’ Plan to T...</td>\n",
              "      <td>Patrick Henningsen  21st Century WireRemember ...</td>\n",
              "      <td>Middle-east</td>\n",
              "      <td>January 15, 2016</td>\n",
              "      <td>0</td>\n",
              "    </tr>\n",
              "    <tr>\n",
              "      <th>23479</th>\n",
              "      <td>How to Blow $700 Million: Al Jazeera America F...</td>\n",
              "      <td>21st Century Wire says Al Jazeera America will...</td>\n",
              "      <td>Middle-east</td>\n",
              "      <td>January 14, 2016</td>\n",
              "      <td>0</td>\n",
              "    </tr>\n",
              "    <tr>\n",
              "      <th>23480</th>\n",
              "      <td>10 U.S. Navy Sailors Held by Iranian Military ...</td>\n",
              "      <td>21st Century Wire says As 21WIRE predicted in ...</td>\n",
              "      <td>Middle-east</td>\n",
              "      <td>January 12, 2016</td>\n",
              "      <td>0</td>\n",
              "    </tr>\n",
              "  </tbody>\n",
              "</table>\n",
              "</div>"
            ],
            "text/plain": [
              "                                                   title  \\\n",
              "23471  Seven Iranians freed in the prisoner swap have...   \n",
              "23472                      #Hashtag Hell & The Fake Left   \n",
              "23473  Astroturfing: Journalist Reveals Brainwashing ...   \n",
              "23474          The New American Century: An Era of Fraud   \n",
              "23475  Hillary Clinton: ‘Israel First’ (and no peace ...   \n",
              "23476  McPain: John McCain Furious That Iran Treated ...   \n",
              "23477  JUSTICE? Yahoo Settles E-mail Privacy Class-ac...   \n",
              "23478  Sunnistan: US and Allied ‘Safe Zone’ Plan to T...   \n",
              "23479  How to Blow $700 Million: Al Jazeera America F...   \n",
              "23480  10 U.S. Navy Sailors Held by Iranian Military ...   \n",
              "\n",
              "                                                    text      subject  \\\n",
              "23471  21st Century Wire says This week, the historic...  Middle-east   \n",
              "23472   By Dady Chery and Gilbert MercierAll writers ...  Middle-east   \n",
              "23473  Vic Bishop Waking TimesOur reality is carefull...  Middle-east   \n",
              "23474  Paul Craig RobertsIn the last years of the 20t...  Middle-east   \n",
              "23475  Robert Fantina CounterpunchAlthough the United...  Middle-east   \n",
              "23476  21st Century Wire says As 21WIRE reported earl...  Middle-east   \n",
              "23477  21st Century Wire says It s a familiar theme. ...  Middle-east   \n",
              "23478  Patrick Henningsen  21st Century WireRemember ...  Middle-east   \n",
              "23479  21st Century Wire says Al Jazeera America will...  Middle-east   \n",
              "23480  21st Century Wire says As 21WIRE predicted in ...  Middle-east   \n",
              "\n",
              "                   date  class  \n",
              "23471  January 20, 2016      0  \n",
              "23472  January 19, 2016      0  \n",
              "23473  January 19, 2016      0  \n",
              "23474  January 19, 2016      0  \n",
              "23475  January 18, 2016      0  \n",
              "23476  January 16, 2016      0  \n",
              "23477  January 16, 2016      0  \n",
              "23478  January 15, 2016      0  \n",
              "23479  January 14, 2016      0  \n",
              "23480  January 12, 2016      0  "
            ]
          },
          "execution_count": 9,
          "metadata": {},
          "output_type": "execute_result"
        }
      ]
    },
    {
      "cell_type": "code",
      "metadata": {
        "execution": {
          "iopub.execute_input": "2021-10-10T14:59:25.920112Z",
          "iopub.status.busy": "2021-10-10T14:59:25.919753Z",
          "iopub.status.idle": "2021-10-10T14:59:25.939741Z",
          "shell.execute_reply": "2021-10-10T14:59:25.938705Z",
          "shell.execute_reply.started": "2021-10-10T14:59:25.920080Z"
        },
        "id": "yqD7zOMQr9kY",
        "outputId": "1689a369-f1b4-4a5f-e19c-5f67659fde36"
      },
      "source": [
        "df_true_manual_testing.head(10)"
      ],
      "execution_count": null,
      "outputs": [
        {
          "data": {
            "text/html": [
              "<div>\n",
              "<style scoped>\n",
              "    .dataframe tbody tr th:only-of-type {\n",
              "        vertical-align: middle;\n",
              "    }\n",
              "\n",
              "    .dataframe tbody tr th {\n",
              "        vertical-align: top;\n",
              "    }\n",
              "\n",
              "    .dataframe thead th {\n",
              "        text-align: right;\n",
              "    }\n",
              "</style>\n",
              "<table border=\"1\" class=\"dataframe\">\n",
              "  <thead>\n",
              "    <tr style=\"text-align: right;\">\n",
              "      <th></th>\n",
              "      <th>title</th>\n",
              "      <th>text</th>\n",
              "      <th>subject</th>\n",
              "      <th>date</th>\n",
              "      <th>class</th>\n",
              "    </tr>\n",
              "  </thead>\n",
              "  <tbody>\n",
              "    <tr>\n",
              "      <th>21407</th>\n",
              "      <td>Mata Pires, owner of embattled Brazil builder ...</td>\n",
              "      <td>SAO PAULO (Reuters) - Cesar Mata Pires, the ow...</td>\n",
              "      <td>worldnews</td>\n",
              "      <td>August 22, 2017</td>\n",
              "      <td>1</td>\n",
              "    </tr>\n",
              "    <tr>\n",
              "      <th>21408</th>\n",
              "      <td>U.S., North Korea clash at U.N. forum over nuc...</td>\n",
              "      <td>GENEVA (Reuters) - North Korea and the United ...</td>\n",
              "      <td>worldnews</td>\n",
              "      <td>August 22, 2017</td>\n",
              "      <td>1</td>\n",
              "    </tr>\n",
              "    <tr>\n",
              "      <th>21409</th>\n",
              "      <td>U.S., North Korea clash at U.N. arms forum on ...</td>\n",
              "      <td>GENEVA (Reuters) - North Korea and the United ...</td>\n",
              "      <td>worldnews</td>\n",
              "      <td>August 22, 2017</td>\n",
              "      <td>1</td>\n",
              "    </tr>\n",
              "    <tr>\n",
              "      <th>21410</th>\n",
              "      <td>Headless torso could belong to submarine journ...</td>\n",
              "      <td>COPENHAGEN (Reuters) - Danish police said on T...</td>\n",
              "      <td>worldnews</td>\n",
              "      <td>August 22, 2017</td>\n",
              "      <td>1</td>\n",
              "    </tr>\n",
              "    <tr>\n",
              "      <th>21411</th>\n",
              "      <td>North Korea shipments to Syria chemical arms a...</td>\n",
              "      <td>UNITED NATIONS (Reuters) - Two North Korean sh...</td>\n",
              "      <td>worldnews</td>\n",
              "      <td>August 21, 2017</td>\n",
              "      <td>1</td>\n",
              "    </tr>\n",
              "    <tr>\n",
              "      <th>21412</th>\n",
              "      <td>'Fully committed' NATO backs new U.S. approach...</td>\n",
              "      <td>BRUSSELS (Reuters) - NATO allies on Tuesday we...</td>\n",
              "      <td>worldnews</td>\n",
              "      <td>August 22, 2017</td>\n",
              "      <td>1</td>\n",
              "    </tr>\n",
              "    <tr>\n",
              "      <th>21413</th>\n",
              "      <td>LexisNexis withdrew two products from Chinese ...</td>\n",
              "      <td>LONDON (Reuters) - LexisNexis, a provider of l...</td>\n",
              "      <td>worldnews</td>\n",
              "      <td>August 22, 2017</td>\n",
              "      <td>1</td>\n",
              "    </tr>\n",
              "    <tr>\n",
              "      <th>21414</th>\n",
              "      <td>Minsk cultural hub becomes haven from authorities</td>\n",
              "      <td>MINSK (Reuters) - In the shadow of disused Sov...</td>\n",
              "      <td>worldnews</td>\n",
              "      <td>August 22, 2017</td>\n",
              "      <td>1</td>\n",
              "    </tr>\n",
              "    <tr>\n",
              "      <th>21415</th>\n",
              "      <td>Vatican upbeat on possibility of Pope Francis ...</td>\n",
              "      <td>MOSCOW (Reuters) - Vatican Secretary of State ...</td>\n",
              "      <td>worldnews</td>\n",
              "      <td>August 22, 2017</td>\n",
              "      <td>1</td>\n",
              "    </tr>\n",
              "    <tr>\n",
              "      <th>21416</th>\n",
              "      <td>Indonesia to buy $1.14 billion worth of Russia...</td>\n",
              "      <td>JAKARTA (Reuters) - Indonesia will buy 11 Sukh...</td>\n",
              "      <td>worldnews</td>\n",
              "      <td>August 22, 2017</td>\n",
              "      <td>1</td>\n",
              "    </tr>\n",
              "  </tbody>\n",
              "</table>\n",
              "</div>"
            ],
            "text/plain": [
              "                                                   title  \\\n",
              "21407  Mata Pires, owner of embattled Brazil builder ...   \n",
              "21408  U.S., North Korea clash at U.N. forum over nuc...   \n",
              "21409  U.S., North Korea clash at U.N. arms forum on ...   \n",
              "21410  Headless torso could belong to submarine journ...   \n",
              "21411  North Korea shipments to Syria chemical arms a...   \n",
              "21412  'Fully committed' NATO backs new U.S. approach...   \n",
              "21413  LexisNexis withdrew two products from Chinese ...   \n",
              "21414  Minsk cultural hub becomes haven from authorities   \n",
              "21415  Vatican upbeat on possibility of Pope Francis ...   \n",
              "21416  Indonesia to buy $1.14 billion worth of Russia...   \n",
              "\n",
              "                                                    text    subject  \\\n",
              "21407  SAO PAULO (Reuters) - Cesar Mata Pires, the ow...  worldnews   \n",
              "21408  GENEVA (Reuters) - North Korea and the United ...  worldnews   \n",
              "21409  GENEVA (Reuters) - North Korea and the United ...  worldnews   \n",
              "21410  COPENHAGEN (Reuters) - Danish police said on T...  worldnews   \n",
              "21411  UNITED NATIONS (Reuters) - Two North Korean sh...  worldnews   \n",
              "21412  BRUSSELS (Reuters) - NATO allies on Tuesday we...  worldnews   \n",
              "21413  LONDON (Reuters) - LexisNexis, a provider of l...  worldnews   \n",
              "21414  MINSK (Reuters) - In the shadow of disused Sov...  worldnews   \n",
              "21415  MOSCOW (Reuters) - Vatican Secretary of State ...  worldnews   \n",
              "21416  JAKARTA (Reuters) - Indonesia will buy 11 Sukh...  worldnews   \n",
              "\n",
              "                   date  class  \n",
              "21407  August 22, 2017       1  \n",
              "21408  August 22, 2017       1  \n",
              "21409  August 22, 2017       1  \n",
              "21410  August 22, 2017       1  \n",
              "21411  August 21, 2017       1  \n",
              "21412  August 22, 2017       1  \n",
              "21413  August 22, 2017       1  \n",
              "21414  August 22, 2017       1  \n",
              "21415  August 22, 2017       1  \n",
              "21416  August 22, 2017       1  "
            ]
          },
          "execution_count": 10,
          "metadata": {},
          "output_type": "execute_result"
        }
      ]
    },
    {
      "cell_type": "code",
      "metadata": {
        "execution": {
          "iopub.execute_input": "2021-10-10T14:59:25.941992Z",
          "iopub.status.busy": "2021-10-10T14:59:25.941575Z",
          "iopub.status.idle": "2021-10-10T14:59:25.956334Z",
          "shell.execute_reply": "2021-10-10T14:59:25.955291Z",
          "shell.execute_reply.started": "2021-10-10T14:59:25.941947Z"
        },
        "id": "OoalHmwzr9kY"
      },
      "source": [
        "df_manual_testing = pd.concat([df_fake_manual_testing,df_true_manual_testing], axis = 0)\n",
        "df_manual_testing.to_csv(\"manual_testing.csv\")"
      ],
      "execution_count": null,
      "outputs": []
    },
    {
      "cell_type": "markdown",
      "metadata": {
        "id": "6ZRKeHgUr9kY"
      },
      "source": [
        "## Merging True and Fake Dataframes"
      ]
    },
    {
      "cell_type": "code",
      "metadata": {
        "execution": {
          "iopub.execute_input": "2021-10-10T14:59:25.958454Z",
          "iopub.status.busy": "2021-10-10T14:59:25.958143Z",
          "iopub.status.idle": "2021-10-10T14:59:25.982989Z",
          "shell.execute_reply": "2021-10-10T14:59:25.981799Z",
          "shell.execute_reply.started": "2021-10-10T14:59:25.958413Z"
        },
        "id": "uuaqSYx0r9kY",
        "outputId": "08297cca-323a-46e0-af56-492bc8d93cba"
      },
      "source": [
        "df_merge = pd.concat([df_fake, df_true], axis =0 )\n",
        "df_merge.head(10)"
      ],
      "execution_count": null,
      "outputs": [
        {
          "data": {
            "text/html": [
              "<div>\n",
              "<style scoped>\n",
              "    .dataframe tbody tr th:only-of-type {\n",
              "        vertical-align: middle;\n",
              "    }\n",
              "\n",
              "    .dataframe tbody tr th {\n",
              "        vertical-align: top;\n",
              "    }\n",
              "\n",
              "    .dataframe thead th {\n",
              "        text-align: right;\n",
              "    }\n",
              "</style>\n",
              "<table border=\"1\" class=\"dataframe\">\n",
              "  <thead>\n",
              "    <tr style=\"text-align: right;\">\n",
              "      <th></th>\n",
              "      <th>title</th>\n",
              "      <th>text</th>\n",
              "      <th>subject</th>\n",
              "      <th>date</th>\n",
              "      <th>class</th>\n",
              "    </tr>\n",
              "  </thead>\n",
              "  <tbody>\n",
              "    <tr>\n",
              "      <th>0</th>\n",
              "      <td>Donald Trump Sends Out Embarrassing New Year’...</td>\n",
              "      <td>Donald Trump just couldn t wish all Americans ...</td>\n",
              "      <td>News</td>\n",
              "      <td>December 31, 2017</td>\n",
              "      <td>0</td>\n",
              "    </tr>\n",
              "    <tr>\n",
              "      <th>1</th>\n",
              "      <td>Drunk Bragging Trump Staffer Started Russian ...</td>\n",
              "      <td>House Intelligence Committee Chairman Devin Nu...</td>\n",
              "      <td>News</td>\n",
              "      <td>December 31, 2017</td>\n",
              "      <td>0</td>\n",
              "    </tr>\n",
              "    <tr>\n",
              "      <th>2</th>\n",
              "      <td>Sheriff David Clarke Becomes An Internet Joke...</td>\n",
              "      <td>On Friday, it was revealed that former Milwauk...</td>\n",
              "      <td>News</td>\n",
              "      <td>December 30, 2017</td>\n",
              "      <td>0</td>\n",
              "    </tr>\n",
              "    <tr>\n",
              "      <th>3</th>\n",
              "      <td>Trump Is So Obsessed He Even Has Obama’s Name...</td>\n",
              "      <td>On Christmas day, Donald Trump announced that ...</td>\n",
              "      <td>News</td>\n",
              "      <td>December 29, 2017</td>\n",
              "      <td>0</td>\n",
              "    </tr>\n",
              "    <tr>\n",
              "      <th>4</th>\n",
              "      <td>Pope Francis Just Called Out Donald Trump Dur...</td>\n",
              "      <td>Pope Francis used his annual Christmas Day mes...</td>\n",
              "      <td>News</td>\n",
              "      <td>December 25, 2017</td>\n",
              "      <td>0</td>\n",
              "    </tr>\n",
              "    <tr>\n",
              "      <th>5</th>\n",
              "      <td>Racist Alabama Cops Brutalize Black Boy While...</td>\n",
              "      <td>The number of cases of cops brutalizing and ki...</td>\n",
              "      <td>News</td>\n",
              "      <td>December 25, 2017</td>\n",
              "      <td>0</td>\n",
              "    </tr>\n",
              "    <tr>\n",
              "      <th>6</th>\n",
              "      <td>Fresh Off The Golf Course, Trump Lashes Out A...</td>\n",
              "      <td>Donald Trump spent a good portion of his day a...</td>\n",
              "      <td>News</td>\n",
              "      <td>December 23, 2017</td>\n",
              "      <td>0</td>\n",
              "    </tr>\n",
              "    <tr>\n",
              "      <th>7</th>\n",
              "      <td>Trump Said Some INSANELY Racist Stuff Inside ...</td>\n",
              "      <td>In the wake of yet another court decision that...</td>\n",
              "      <td>News</td>\n",
              "      <td>December 23, 2017</td>\n",
              "      <td>0</td>\n",
              "    </tr>\n",
              "    <tr>\n",
              "      <th>8</th>\n",
              "      <td>Former CIA Director Slams Trump Over UN Bully...</td>\n",
              "      <td>Many people have raised the alarm regarding th...</td>\n",
              "      <td>News</td>\n",
              "      <td>December 22, 2017</td>\n",
              "      <td>0</td>\n",
              "    </tr>\n",
              "    <tr>\n",
              "      <th>9</th>\n",
              "      <td>WATCH: Brand-New Pro-Trump Ad Features So Muc...</td>\n",
              "      <td>Just when you might have thought we d get a br...</td>\n",
              "      <td>News</td>\n",
              "      <td>December 21, 2017</td>\n",
              "      <td>0</td>\n",
              "    </tr>\n",
              "  </tbody>\n",
              "</table>\n",
              "</div>"
            ],
            "text/plain": [
              "                                               title  \\\n",
              "0   Donald Trump Sends Out Embarrassing New Year’...   \n",
              "1   Drunk Bragging Trump Staffer Started Russian ...   \n",
              "2   Sheriff David Clarke Becomes An Internet Joke...   \n",
              "3   Trump Is So Obsessed He Even Has Obama’s Name...   \n",
              "4   Pope Francis Just Called Out Donald Trump Dur...   \n",
              "5   Racist Alabama Cops Brutalize Black Boy While...   \n",
              "6   Fresh Off The Golf Course, Trump Lashes Out A...   \n",
              "7   Trump Said Some INSANELY Racist Stuff Inside ...   \n",
              "8   Former CIA Director Slams Trump Over UN Bully...   \n",
              "9   WATCH: Brand-New Pro-Trump Ad Features So Muc...   \n",
              "\n",
              "                                                text subject  \\\n",
              "0  Donald Trump just couldn t wish all Americans ...    News   \n",
              "1  House Intelligence Committee Chairman Devin Nu...    News   \n",
              "2  On Friday, it was revealed that former Milwauk...    News   \n",
              "3  On Christmas day, Donald Trump announced that ...    News   \n",
              "4  Pope Francis used his annual Christmas Day mes...    News   \n",
              "5  The number of cases of cops brutalizing and ki...    News   \n",
              "6  Donald Trump spent a good portion of his day a...    News   \n",
              "7  In the wake of yet another court decision that...    News   \n",
              "8  Many people have raised the alarm regarding th...    News   \n",
              "9  Just when you might have thought we d get a br...    News   \n",
              "\n",
              "                date  class  \n",
              "0  December 31, 2017      0  \n",
              "1  December 31, 2017      0  \n",
              "2  December 30, 2017      0  \n",
              "3  December 29, 2017      0  \n",
              "4  December 25, 2017      0  \n",
              "5  December 25, 2017      0  \n",
              "6  December 23, 2017      0  \n",
              "7  December 23, 2017      0  \n",
              "8  December 22, 2017      0  \n",
              "9  December 21, 2017      0  "
            ]
          },
          "execution_count": 12,
          "metadata": {},
          "output_type": "execute_result"
        }
      ]
    },
    {
      "cell_type": "code",
      "metadata": {
        "execution": {
          "iopub.execute_input": "2021-10-10T14:59:25.984668Z",
          "iopub.status.busy": "2021-10-10T14:59:25.984359Z",
          "iopub.status.idle": "2021-10-10T14:59:25.991637Z",
          "shell.execute_reply": "2021-10-10T14:59:25.990746Z",
          "shell.execute_reply.started": "2021-10-10T14:59:25.984638Z"
        },
        "id": "OhpbMVShr9kZ",
        "outputId": "15cb368c-378d-49ce-924f-fd9d412cd6d0"
      },
      "source": [
        "df_merge.columns"
      ],
      "execution_count": null,
      "outputs": [
        {
          "data": {
            "text/plain": [
              "Index(['title', 'text', 'subject', 'date', 'class'], dtype='object')"
            ]
          },
          "execution_count": 13,
          "metadata": {},
          "output_type": "execute_result"
        }
      ]
    },
    {
      "cell_type": "markdown",
      "metadata": {
        "id": "vI-7CwCnr9kZ"
      },
      "source": [
        "## Removing columns which are not required"
      ]
    },
    {
      "cell_type": "code",
      "metadata": {
        "execution": {
          "iopub.execute_input": "2021-10-10T14:59:25.993677Z",
          "iopub.status.busy": "2021-10-10T14:59:25.993290Z",
          "iopub.status.idle": "2021-10-10T14:59:26.005850Z",
          "shell.execute_reply": "2021-10-10T14:59:26.004872Z",
          "shell.execute_reply.started": "2021-10-10T14:59:25.993647Z"
        },
        "id": "6evsWthfr9kZ"
      },
      "source": [
        "df = df_merge.drop([\"title\", \"subject\",\"date\"], axis = 1)"
      ],
      "execution_count": null,
      "outputs": []
    },
    {
      "cell_type": "code",
      "metadata": {
        "execution": {
          "iopub.execute_input": "2021-10-10T14:59:26.007465Z",
          "iopub.status.busy": "2021-10-10T14:59:26.007183Z",
          "iopub.status.idle": "2021-10-10T14:59:26.026445Z",
          "shell.execute_reply": "2021-10-10T14:59:26.025005Z",
          "shell.execute_reply.started": "2021-10-10T14:59:26.007438Z"
        },
        "id": "iBNnM-mJr9ka",
        "outputId": "b583b19b-9537-40e9-8c57-f4a180b29c5d"
      },
      "source": [
        "df.isnull().sum()"
      ],
      "execution_count": null,
      "outputs": [
        {
          "data": {
            "text/plain": [
              "text     0\n",
              "class    0\n",
              "dtype: int64"
            ]
          },
          "execution_count": 15,
          "metadata": {},
          "output_type": "execute_result"
        }
      ]
    },
    {
      "cell_type": "markdown",
      "metadata": {
        "id": "AuYNTwdQr9ka"
      },
      "source": [
        "# Data Visualisation\n",
        "\n",
        "A Target column is added and the data are merged & randomly mixed into a single dataframe known as data.\n",
        "Let’s see if the dataset is well balanced."
      ]
    },
    {
      "cell_type": "code",
      "metadata": {
        "id": "pYi8p2w7r9kb",
        "outputId": "05077a1e-323f-4989-8940-d7b99fc023ac"
      },
      "source": [
        "true_count=df_true.shape[0]\n",
        "fake_count=df_fake.shape[0]\n",
        "print(true_count,fake_count)\n",
        "plt.figure(figsize=(12, 12), dpi=80)\n",
        "plt.pie(np.array([true_count,fake_count]),explode=[0.08,0.05],colors=['green','firebrick'],startangle=90,shadow=True,labels=['True News','Fake News'],autopct='%3.1f%%')\n",
        "plt.legend()\n",
        "plt.show()"
      ],
      "execution_count": null,
      "outputs": [
        {
          "name": "stdout",
          "output_type": "stream",
          "text": [
            "21407 23471\n"
          ]
        },
        {
          "data": {
            "image/png": "[encoded data removed]",
            "text/plain": [
              "<Figure size 960x960 with 1 Axes>"
            ]
          },
          "metadata": {},
          "output_type": "display_data"
        }
      ]
    },
    {
      "cell_type": "markdown",
      "metadata": {
        "id": "gkDcI6_wr9kb"
      },
      "source": [
        "## Random Shuffling the dataframe"
      ]
    },
    {
      "cell_type": "code",
      "metadata": {
        "execution": {
          "iopub.execute_input": "2021-10-10T14:59:26.028448Z",
          "iopub.status.busy": "2021-10-10T14:59:26.027981Z",
          "iopub.status.idle": "2021-10-10T14:59:26.047218Z",
          "shell.execute_reply": "2021-10-10T14:59:26.046052Z",
          "shell.execute_reply.started": "2021-10-10T14:59:26.028409Z"
        },
        "id": "3iBe3qAJr9kb"
      },
      "source": [
        "df = df.sample(frac = 1)"
      ],
      "execution_count": null,
      "outputs": []
    },
    {
      "cell_type": "code",
      "metadata": {
        "execution": {
          "iopub.execute_input": "2021-10-10T14:59:26.049233Z",
          "iopub.status.busy": "2021-10-10T14:59:26.048848Z",
          "iopub.status.idle": "2021-10-10T14:59:26.060304Z",
          "shell.execute_reply": "2021-10-10T14:59:26.058947Z",
          "shell.execute_reply.started": "2021-10-10T14:59:26.049191Z"
        },
        "id": "5wUvznKLr9kb",
        "outputId": "8f490b3b-70ef-4722-e360-b1b2002a8441"
      },
      "source": [
        "df.head()"
      ],
      "execution_count": null,
      "outputs": [
        {
          "data": {
            "text/html": [
              "<div>\n",
              "<style scoped>\n",
              "    .dataframe tbody tr th:only-of-type {\n",
              "        vertical-align: middle;\n",
              "    }\n",
              "\n",
              "    .dataframe tbody tr th {\n",
              "        vertical-align: top;\n",
              "    }\n",
              "\n",
              "    .dataframe thead th {\n",
              "        text-align: right;\n",
              "    }\n",
              "</style>\n",
              "<table border=\"1\" class=\"dataframe\">\n",
              "  <thead>\n",
              "    <tr style=\"text-align: right;\">\n",
              "      <th></th>\n",
              "      <th>text</th>\n",
              "      <th>class</th>\n",
              "    </tr>\n",
              "  </thead>\n",
              "  <tbody>\n",
              "    <tr>\n",
              "      <th>4501</th>\n",
              "      <td>UNITED NATIONS (Reuters) - The State Departmen...</td>\n",
              "      <td>1</td>\n",
              "    </tr>\n",
              "    <tr>\n",
              "      <th>9081</th>\n",
              "      <td>HOUSTON (Reuters) - A Republican-led congressi...</td>\n",
              "      <td>1</td>\n",
              "    </tr>\n",
              "    <tr>\n",
              "      <th>19174</th>\n",
              "      <td>In 2013 Dr Kermit Gosnell was convicted of kil...</td>\n",
              "      <td>0</td>\n",
              "    </tr>\n",
              "    <tr>\n",
              "      <th>6795</th>\n",
              "      <td>For more than seven years now the right-wing l...</td>\n",
              "      <td>0</td>\n",
              "    </tr>\n",
              "    <tr>\n",
              "      <th>19216</th>\n",
              "      <td>PARIS (Reuters) - Fewer French voters are diss...</td>\n",
              "      <td>1</td>\n",
              "    </tr>\n",
              "  </tbody>\n",
              "</table>\n",
              "</div>"
            ],
            "text/plain": [
              "                                                    text  class\n",
              "4501   UNITED NATIONS (Reuters) - The State Departmen...      1\n",
              "9081   HOUSTON (Reuters) - A Republican-led congressi...      1\n",
              "19174  In 2013 Dr Kermit Gosnell was convicted of kil...      0\n",
              "6795   For more than seven years now the right-wing l...      0\n",
              "19216  PARIS (Reuters) - Fewer French voters are diss...      1"
            ]
          },
          "execution_count": 18,
          "metadata": {},
          "output_type": "execute_result"
        }
      ]
    },
    {
      "cell_type": "code",
      "metadata": {
        "execution": {
          "iopub.execute_input": "2021-10-10T14:59:26.062660Z",
          "iopub.status.busy": "2021-10-10T14:59:26.062150Z",
          "iopub.status.idle": "2021-10-10T14:59:26.078783Z",
          "shell.execute_reply": "2021-10-10T14:59:26.077601Z",
          "shell.execute_reply.started": "2021-10-10T14:59:26.062614Z"
        },
        "id": "RuCbMbpEr9kc"
      },
      "source": [
        "df.reset_index(inplace = True)\n",
        "df.drop([\"index\"], axis = 1, inplace = True)"
      ],
      "execution_count": null,
      "outputs": []
    },
    {
      "cell_type": "code",
      "metadata": {
        "execution": {
          "iopub.execute_input": "2021-10-10T14:59:26.080920Z",
          "iopub.status.busy": "2021-10-10T14:59:26.080399Z",
          "iopub.status.idle": "2021-10-10T14:59:26.088665Z",
          "shell.execute_reply": "2021-10-10T14:59:26.087582Z",
          "shell.execute_reply.started": "2021-10-10T14:59:26.080873Z"
        },
        "id": "c2LG5Eb4r9kc",
        "outputId": "c9ed29ac-5bad-4ada-c07b-6862bebf8b24"
      },
      "source": [
        "df.columns"
      ],
      "execution_count": null,
      "outputs": [
        {
          "data": {
            "text/plain": [
              "Index(['text', 'class'], dtype='object')"
            ]
          },
          "execution_count": 20,
          "metadata": {},
          "output_type": "execute_result"
        }
      ]
    },
    {
      "cell_type": "code",
      "metadata": {
        "execution": {
          "iopub.execute_input": "2021-10-10T14:59:26.091245Z",
          "iopub.status.busy": "2021-10-10T14:59:26.090402Z",
          "iopub.status.idle": "2021-10-10T14:59:26.106070Z",
          "shell.execute_reply": "2021-10-10T14:59:26.104940Z",
          "shell.execute_reply.started": "2021-10-10T14:59:26.090979Z"
        },
        "id": "CgCJsqL8r9kc",
        "outputId": "e86f91b1-05cb-43b5-c887-b65d8d65e595"
      },
      "source": [
        "df.head()"
      ],
      "execution_count": null,
      "outputs": [
        {
          "data": {
            "text/html": [
              "<div>\n",
              "<style scoped>\n",
              "    .dataframe tbody tr th:only-of-type {\n",
              "        vertical-align: middle;\n",
              "    }\n",
              "\n",
              "    .dataframe tbody tr th {\n",
              "        vertical-align: top;\n",
              "    }\n",
              "\n",
              "    .dataframe thead th {\n",
              "        text-align: right;\n",
              "    }\n",
              "</style>\n",
              "<table border=\"1\" class=\"dataframe\">\n",
              "  <thead>\n",
              "    <tr style=\"text-align: right;\">\n",
              "      <th></th>\n",
              "      <th>text</th>\n",
              "      <th>class</th>\n",
              "    </tr>\n",
              "  </thead>\n",
              "  <tbody>\n",
              "    <tr>\n",
              "      <th>0</th>\n",
              "      <td>UNITED NATIONS (Reuters) - The State Departmen...</td>\n",
              "      <td>1</td>\n",
              "    </tr>\n",
              "    <tr>\n",
              "      <th>1</th>\n",
              "      <td>HOUSTON (Reuters) - A Republican-led congressi...</td>\n",
              "      <td>1</td>\n",
              "    </tr>\n",
              "    <tr>\n",
              "      <th>2</th>\n",
              "      <td>In 2013 Dr Kermit Gosnell was convicted of kil...</td>\n",
              "      <td>0</td>\n",
              "    </tr>\n",
              "    <tr>\n",
              "      <th>3</th>\n",
              "      <td>For more than seven years now the right-wing l...</td>\n",
              "      <td>0</td>\n",
              "    </tr>\n",
              "    <tr>\n",
              "      <th>4</th>\n",
              "      <td>PARIS (Reuters) - Fewer French voters are diss...</td>\n",
              "      <td>1</td>\n",
              "    </tr>\n",
              "  </tbody>\n",
              "</table>\n",
              "</div>"
            ],
            "text/plain": [
              "                                                text  class\n",
              "0  UNITED NATIONS (Reuters) - The State Departmen...      1\n",
              "1  HOUSTON (Reuters) - A Republican-led congressi...      1\n",
              "2  In 2013 Dr Kermit Gosnell was convicted of kil...      0\n",
              "3  For more than seven years now the right-wing l...      0\n",
              "4  PARIS (Reuters) - Fewer French voters are diss...      1"
            ]
          },
          "execution_count": 21,
          "metadata": {},
          "output_type": "execute_result"
        }
      ]
    },
    {
      "cell_type": "markdown",
      "metadata": {
        "id": "uCvuE2Ayr9kc"
      },
      "source": [
        "## Creating a function to process the texts"
      ]
    },
    {
      "cell_type": "code",
      "metadata": {
        "execution": {
          "iopub.execute_input": "2021-10-10T14:59:26.108250Z",
          "iopub.status.busy": "2021-10-10T14:59:26.107837Z",
          "iopub.status.idle": "2021-10-10T14:59:26.115655Z",
          "shell.execute_reply": "2021-10-10T14:59:26.114617Z",
          "shell.execute_reply.started": "2021-10-10T14:59:26.108205Z"
        },
        "id": "a8-S91v-r9kc"
      },
      "source": [
        "def wordopt(text):\n",
        "    text = text.lower()\n",
        "    text = re.sub('\\[.*?\\]', '', text)\n",
        "    text = re.sub(\"\\\\W\",\" \",text) \n",
        "    text = re.sub('https?://\\S+|www\\.\\S+', '', text)\n",
        "    text = re.sub('<.*?>+', '', text)\n",
        "    text = re.sub('[%s]' % re.escape(string.punctuation), '', text)\n",
        "    text = re.sub('\\n', '', text)\n",
        "    text = re.sub('\\w*\\d\\w*', '', text)    \n",
        "    return text"
      ],
      "execution_count": null,
      "outputs": []
    },
    {
      "cell_type": "code",
      "metadata": {
        "execution": {
          "iopub.execute_input": "2021-10-10T14:59:26.117448Z",
          "iopub.status.busy": "2021-10-10T14:59:26.116882Z",
          "iopub.status.idle": "2021-10-10T14:59:47.204183Z",
          "shell.execute_reply": "2021-10-10T14:59:47.203269Z",
          "shell.execute_reply.started": "2021-10-10T14:59:26.117396Z"
        },
        "id": "2MFg5Oonr9kc"
      },
      "source": [
        "df[\"text\"] = df[\"text\"].apply(wordopt)"
      ],
      "execution_count": null,
      "outputs": []
    },
    {
      "cell_type": "markdown",
      "metadata": {
        "id": "A9Mx-YWhr9kd"
      },
      "source": [
        "## Defining dependent and independent variables"
      ]
    },
    {
      "cell_type": "code",
      "metadata": {
        "execution": {
          "iopub.execute_input": "2021-10-10T14:59:47.205731Z",
          "iopub.status.busy": "2021-10-10T14:59:47.205309Z",
          "iopub.status.idle": "2021-10-10T14:59:47.209236Z",
          "shell.execute_reply": "2021-10-10T14:59:47.208592Z",
          "shell.execute_reply.started": "2021-10-10T14:59:47.205697Z"
        },
        "id": "I6J30kIUr9kd"
      },
      "source": [
        "x = df[\"text\"]\n",
        "y = df[\"class\"]"
      ],
      "execution_count": null,
      "outputs": []
    },
    {
      "cell_type": "markdown",
      "metadata": {
        "id": "Ej4yzekJr9kd"
      },
      "source": [
        "## Splitting Training and Testing"
      ]
    },
    {
      "cell_type": "markdown",
      "metadata": {
        "id": "XOGH-aiur9kd"
      },
      "source": [
        "Split the dataset into a training set and a testing set\n",
        "\n",
        "Advantages :\n",
        "\n",
        "•\tBy splitting the dataset pseudo-randomly into a two separate sets, we can train using one set and test using another.\n",
        "\n",
        "•\tThis ensures that we won't use the same observations in both sets.\n",
        "\n",
        "•\tMore flexible and faster than creating a model using all of the dataset for training.\n"
      ]
    },
    {
      "cell_type": "code",
      "metadata": {
        "execution": {
          "iopub.execute_input": "2021-10-10T14:59:47.210703Z",
          "iopub.status.busy": "2021-10-10T14:59:47.210266Z",
          "iopub.status.idle": "2021-10-10T14:59:47.234988Z",
          "shell.execute_reply": "2021-10-10T14:59:47.234045Z",
          "shell.execute_reply.started": "2021-10-10T14:59:47.210664Z"
        },
        "id": "mk97GXn5r9kd"
      },
      "source": [
        "x_train, x_test, y_train, y_test = train_test_split(x, y, test_size=0.25)"
      ],
      "execution_count": null,
      "outputs": []
    },
    {
      "cell_type": "markdown",
      "metadata": {
        "id": "f_ICwgTBr9ke"
      },
      "source": [
        "# Plotting the histogram of the number of words and tokenizing the text:"
      ]
    },
    {
      "cell_type": "code",
      "metadata": {
        "id": "45VJjiNFr9ke",
        "outputId": "7aab6d8e-f447-4fd3-ac87-36ae35bb150c"
      },
      "source": [
        "seq_len = [len(i.split()) for i in x_train]\n",
        "plt.figure(figsize=(10,10),dpi=90)\n",
        "pd.Series(seq_len).hist(bins = 40,color='firebrick')\n",
        "plt.xlabel('Number of Words')\n",
        "plt.ylabel('Number of texts')\n",
        "plt.show()"
      ],
      "execution_count": null,
      "outputs": [
        {
          "data": {
            "image/png": "[encoded data removed]",
            "text/plain": [
              "<Figure size 900x900 with 1 Axes>"
            ]
          },
          "metadata": {
            "needs_background": "light"
          },
          "output_type": "display_data"
        }
      ]
    },
    {
      "cell_type": "markdown",
      "metadata": {
        "id": "Jts2RIBgr9ke"
      },
      "source": [
        "# Convert text to vectors\n",
        "There are three most used techniques to convert text into numeric feature vectors namely Bag of Words, tf-idf vectorization and word embedding. We will discuss the first two in this article along with python code and will have a separate article for word embedding.\n"
      ]
    },
    {
      "cell_type": "markdown",
      "metadata": {
        "id": "uPcrAlIDr9ke"
      },
      "source": [
        "## Bag of Words (BoW) Vectorization\n",
        "Before understanding BoW Vectorization, below are the few terms that you need to understand.\n",
        "\n",
        "• Document: a document is a single text data point e.g. a product review \n",
        "\n",
        "• Corpus: it a collection of all the documents\n",
        "\n",
        "• Feature: every unique word in the corpus is a feature"
      ]
    },
    {
      "cell_type": "code",
      "metadata": {
        "execution": {
          "iopub.execute_input": "2021-10-10T14:59:47.236889Z",
          "iopub.status.busy": "2021-10-10T14:59:47.236218Z",
          "iopub.status.idle": "2021-10-10T15:00:02.394222Z",
          "shell.execute_reply": "2021-10-10T15:00:02.392922Z",
          "shell.execute_reply.started": "2021-10-10T14:59:47.236843Z"
        },
        "id": "zCHrfw6Er9ke"
      },
      "source": [
        "from sklearn.feature_extraction.text import TfidfVectorizer\n",
        "\n",
        "vectorization = TfidfVectorizer()\n",
        "xv_train = vectorization.fit_transform(x_train)\n",
        "xv_test = vectorization.transform(x_test)"
      ],
      "execution_count": null,
      "outputs": []
    },
    {
      "cell_type": "markdown",
      "metadata": {
        "id": "JOMRfvl7r9ke"
      },
      "source": [
        "# Logistic Regression\n",
        "\n",
        "Logistic regression, despite its name, is a classification model rather than regression model. Logistic regression is a simple and more efficient method for binary and linear classification problems. It is a classification model, which is very easy to realize and achieves very good performance with linearly separable classes. It is an extensively employed algorithm for classification in industry. The logistic regression model, like the Adaline and perceptron, is a statistical method for binary classification that can be generalized to multiclass classification. Scikit-learn has a highly optimized version of logistic regression implementation, which supports multiclass classification task."
      ]
    },
    {
      "cell_type": "markdown",
      "metadata": {
        "id": "fe1mKPO5r9ke"
      },
      "source": [
        "Logistic regression is a statistical method for predicting binary classes. The outcome or target variable is dichotomous in nature. \n",
        "Dichotomous means there are only two possible classes. For example, it can be used for cancer detection problems. \n",
        "It computes the probability of an event occurrence.\n",
        "It is a special case of linear regression where the target variable is categorical in nature.\n",
        "It uses a log of odds as the dependent variable. \n",
        "Logistic Regression predicts the probability of occurrence of a binary event utilizing a logit function.\n",
        "\n",
        "Linear Regression Equation:\n",
        "$$ y = \\beta + W_1 X_1 + W_2 X_2 + W_3 X_3 + ...$$\n",
        "### Activation Function\n",
        "Activation functions are really important for a Artificial Neural Network to learn and make sense of something really complicated and Non-linear complex functional mappings between the inputs and response variable.\n",
        "\n",
        "Here we are using the **Sigmoid** activation function. The sigmoid activation function is defined as \n",
        "\n",
        "$$ y=\\frac{1}{1+e^{-z}} $$\n",
        "### Cost Function\n",
        "We will first begin with the cost function that will compute the cost difference between the actual and the predicted values. The cost function also called as the loss function used in the tutorial is given as\n",
        "\n",
        "$$ J = y\\log{\\hat{y}} + (1-y)\\log{(1 - \\hat{y})}$$\n",
        "\n",
        "This cost of loss function is also known as Binary Cross-Entropy\n",
        "\n",
        "### Gradient Descent\n",
        "Gradient descent is an optimization algorithm used to find the values of parameters (coefficients) of a function (f) that minimizes a cost function (cost). Gradient descent is best used when the parameters cannot be calculated analytically (e.g. using linear algebra) and must be searched for by an optimization algorithm.\n",
        "\n",
        "$$ \\Delta = \\frac{1}{m}X\\sigma{(y)}-{y} $$\n",
        "Where $$ \\sigma = Sigmoid = \\frac{1}{1+e^{-z}} $$\n"
      ]
    },
    {
      "cell_type": "code",
      "metadata": {
        "execution": {
          "iopub.execute_input": "2021-10-10T15:00:02.396270Z",
          "iopub.status.busy": "2021-10-10T15:00:02.395863Z",
          "iopub.status.idle": "2021-10-10T15:00:06.400746Z",
          "shell.execute_reply": "2021-10-10T15:00:06.399549Z",
          "shell.execute_reply.started": "2021-10-10T15:00:02.396223Z"
        },
        "scrolled": true,
        "id": "nvWDvI4Ir9kf",
        "outputId": "c2cf5501-bd27-4d2f-99c2-4885407862b9"
      },
      "source": [
        "from sklearn.linear_model import LogisticRegression\n",
        "\n",
        "LR = LogisticRegression()\n",
        "LR.fit(xv_train,y_train)"
      ],
      "execution_count": null,
      "outputs": [
        {
          "data": {
            "text/plain": [
              "LogisticRegression()"
            ]
          },
          "execution_count": 28,
          "metadata": {},
          "output_type": "execute_result"
        }
      ]
    },
    {
      "cell_type": "markdown",
      "metadata": {
        "id": "7mNCq9FFr9kf"
      },
      "source": [
        "## Predicting result and testing accuracy and classification for logistic regression"
      ]
    },
    {
      "cell_type": "code",
      "metadata": {
        "execution": {
          "iopub.execute_input": "2021-10-10T15:00:06.403944Z",
          "iopub.status.busy": "2021-10-10T15:00:06.403049Z",
          "iopub.status.idle": "2021-10-10T15:00:06.431462Z",
          "shell.execute_reply": "2021-10-10T15:00:06.430064Z",
          "shell.execute_reply.started": "2021-10-10T15:00:06.403887Z"
        },
        "id": "oAskdWIKr9kf"
      },
      "source": [
        "pred_lr=LR.predict(xv_test)"
      ],
      "execution_count": null,
      "outputs": []
    },
    {
      "cell_type": "code",
      "metadata": {
        "execution": {
          "iopub.execute_input": "2021-10-10T15:00:06.440040Z",
          "iopub.status.busy": "2021-10-10T15:00:06.438987Z",
          "iopub.status.idle": "2021-10-10T15:00:06.474494Z",
          "shell.execute_reply": "2021-10-10T15:00:06.472999Z",
          "shell.execute_reply.started": "2021-10-10T15:00:06.439973Z"
        },
        "id": "lV1RiWK7r9kf",
        "outputId": "7a89a30b-09a1-4fc0-e0e0-da116b8da117"
      },
      "source": [
        "LR.score(xv_test, y_test)"
      ],
      "execution_count": null,
      "outputs": [
        {
          "data": {
            "text/plain": [
              "0.9859180035650624"
            ]
          },
          "execution_count": 30,
          "metadata": {},
          "output_type": "execute_result"
        }
      ]
    },
    {
      "cell_type": "code",
      "metadata": {
        "execution": {
          "iopub.execute_input": "2021-10-10T15:00:06.477834Z",
          "iopub.status.busy": "2021-10-10T15:00:06.476744Z",
          "iopub.status.idle": "2021-10-10T15:00:06.516098Z",
          "shell.execute_reply": "2021-10-10T15:00:06.514803Z",
          "shell.execute_reply.started": "2021-10-10T15:00:06.477772Z"
        },
        "id": "oMStR9oLr9kf",
        "outputId": "d5f7bf48-f923-4b6e-ae87-3f3750000e53"
      },
      "source": [
        "print(classification_report(y_test, pred_lr))"
      ],
      "execution_count": null,
      "outputs": [
        {
          "name": "stdout",
          "output_type": "stream",
          "text": [
            "              precision    recall  f1-score   support\n",
            "\n",
            "           0       0.99      0.98      0.99      5924\n",
            "           1       0.98      0.99      0.99      5296\n",
            "\n",
            "    accuracy                           0.99     11220\n",
            "   macro avg       0.99      0.99      0.99     11220\n",
            "weighted avg       0.99      0.99      0.99     11220\n",
            "\n"
          ]
        }
      ]
    },
    {
      "cell_type": "markdown",
      "metadata": {
        "id": "DiI148vsr9kf"
      },
      "source": [
        "## Passive Aggressive Classifiers\n",
        "\n",
        "### Text Classification with Passive-Aggressive Algorithms\n",
        "\n",
        "*Passive-Aggressive algorithms* (PA),\n",
        "are a family of margin based online learning algorithms with regularization and no learning rate.\n",
        "In this notebook, we seek to evaluate PA classifiers on\n",
        "multi-class classification data. We estimate multiple binary PA classifiers in a one-versus-all (OvA) setting.\n",
        "\n",
        "---\n",
        "\n",
        "Suppose $X = \\mathbb{R}^n$ is a set of instances and\n",
        "$Y = \\{c_1, c_2, \\dots, c_k\\}$ is a set of labels. Our classification function is defined by\n",
        "\n",
        "$$ a(x) = sign(\\langle w, x \\rangle) \\text{, } w \\in \\mathbb{R}^n $$\n",
        "\n",
        "The task is to learn the weight vector $w$ updating it incrementally by *hinge-loss*:\n",
        "\n",
        "$$\n",
        "l(w; (x, y)) =\n",
        "\\begin{cases}\n",
        "    0, & \\text{if } y \\langle w, x \\rangle \\geq 1; \\\\\n",
        "    1 - y \\langle w, x \\rangle, & \\text{otherwise.}\n",
        "\\end{cases}\n",
        "$$\n",
        "\n",
        "The update rule comes in two possible forms.\n",
        "\n",
        "**PA-I**\n",
        "$$\n",
        "w_{t+1} = argmin_{w}\\frac{1}{2}\\| w - w_t \\|^2 + C\\xi \\\\ \\text{ s.t. } \\\\\n",
        "l(w; (x_t, y_t)) \\leq \\xi \\text{ and } \\xi \\geq 0.\n",
        "$$\n",
        "\n",
        "**PA-II**\n",
        "$$\n",
        "w_{t+1} = argmin_{w}\\frac{1}{2}\\| w - w_t \\|^2 + C\\xi^2 \\\\ \\text{ s.t. } \\\\\n",
        "l(w; (x_t, y_t)) \\leq \\xi.\n",
        "$$\n",
        "\n",
        "where $t$ is the iteration round, $C$ is the regularization term, and $\\xi$ is the slack term on the objective.\n",
        "\n",
        "The updates share the form\n",
        "\n",
        "$$w_{t+1} = w_t + \\tau_t y_t x_t; $$\n",
        "$$\n",
        "\\tau_t = \\min \\left( C, \\frac{l_t}{\\| x_t \\|^2} \\right) \\text{ (PA-I),} \\\\\n",
        "\\tau_t = \\frac{l_t}{\\| x \\|^2 + \\frac{1}{2C}} \\text{ (PA-II).}\n",
        "$$\n",
        "\n",
        "---\n",
        "\n",
        "we use scikit-learn's\n",
        "[`PassiveAggressiveClassifier`]"
      ]
    },
    {
      "cell_type": "code",
      "metadata": {
        "execution": {
          "iopub.execute_input": "2021-10-10T15:00:06.517919Z",
          "iopub.status.busy": "2021-10-10T15:00:06.517602Z",
          "iopub.status.idle": "2021-10-10T15:00:44.864885Z",
          "shell.execute_reply": "2021-10-10T15:00:44.863415Z",
          "shell.execute_reply.started": "2021-10-10T15:00:06.517886Z"
        },
        "id": "pYGGZdO3r9kg",
        "outputId": "5941d130-00b8-4730-e5d4-81c23f48380f"
      },
      "source": [
        "from sklearn.linear_model import PassiveAggressiveClassifier\n",
        "\n",
        "\n",
        "PA = PassiveAggressiveClassifier()\n",
        "PA.fit(xv_train, y_train)"
      ],
      "execution_count": null,
      "outputs": [
        {
          "data": {
            "text/plain": [
              "PassiveAggressiveClassifier()"
            ]
          },
          "execution_count": 32,
          "metadata": {},
          "output_type": "execute_result"
        }
      ]
    },
    {
      "cell_type": "markdown",
      "metadata": {
        "id": "14Wy5mSJr9kg"
      },
      "source": [
        "## Predicting result and testing accuracy and classification for PassiveAggressiveClassifier"
      ]
    },
    {
      "cell_type": "code",
      "metadata": {
        "execution": {
          "iopub.execute_input": "2021-10-10T15:00:44.866882Z",
          "iopub.status.busy": "2021-10-10T15:00:44.866404Z",
          "iopub.status.idle": "2021-10-10T15:00:44.924995Z",
          "shell.execute_reply": "2021-10-10T15:00:44.923931Z",
          "shell.execute_reply.started": "2021-10-10T15:00:44.866822Z"
        },
        "id": "TzsPQd5Dr9kg"
      },
      "source": [
        "pred_dt = PA.predict(xv_test)"
      ],
      "execution_count": null,
      "outputs": []
    },
    {
      "cell_type": "code",
      "metadata": {
        "execution": {
          "iopub.execute_input": "2021-10-10T15:00:44.927259Z",
          "iopub.status.busy": "2021-10-10T15:00:44.926800Z",
          "iopub.status.idle": "2021-10-10T15:00:44.958768Z",
          "shell.execute_reply": "2021-10-10T15:00:44.957614Z",
          "shell.execute_reply.started": "2021-10-10T15:00:44.927211Z"
        },
        "id": "-HHPMW-Ar9kg",
        "outputId": "16fc84d5-32cb-4223-a9ea-be03e40db8b5"
      },
      "source": [
        "PA.score(xv_test, y_test)"
      ],
      "execution_count": null,
      "outputs": [
        {
          "data": {
            "text/plain": [
              "0.9942067736185384"
            ]
          },
          "execution_count": 34,
          "metadata": {},
          "output_type": "execute_result"
        }
      ]
    },
    {
      "cell_type": "code",
      "metadata": {
        "execution": {
          "iopub.execute_input": "2021-10-10T15:00:44.960393Z",
          "iopub.status.busy": "2021-10-10T15:00:44.960088Z",
          "iopub.status.idle": "2021-10-10T15:00:44.991206Z",
          "shell.execute_reply": "2021-10-10T15:00:44.990154Z",
          "shell.execute_reply.started": "2021-10-10T15:00:44.960361Z"
        },
        "id": "WCiPvHTKr9kh",
        "outputId": "176d410c-ff22-4a2e-e209-583d52fb6316"
      },
      "source": [
        "print(classification_report(y_test, pred_dt))"
      ],
      "execution_count": null,
      "outputs": [
        {
          "name": "stdout",
          "output_type": "stream",
          "text": [
            "              precision    recall  f1-score   support\n",
            "\n",
            "           0       1.00      0.99      0.99      5924\n",
            "           1       0.99      0.99      0.99      5296\n",
            "\n",
            "    accuracy                           0.99     11220\n",
            "   macro avg       0.99      0.99      0.99     11220\n",
            "weighted avg       0.99      0.99      0.99     11220\n",
            "\n"
          ]
        }
      ]
    },
    {
      "cell_type": "markdown",
      "metadata": {
        "id": "AFaQwTsnr9kh"
      },
      "source": [
        "# Conclusions \n",
        "\n",
        "<font size=\"4.01\">We are in the fantastic era of Machine Learning. One of the great thing about it is that while it is extremely difficult to train a state of art neural network, it is way easier and faster to use a pretrained neural network, fine tune it and obtain state of art results on your dataset.The task of classifying news manually requires in-depth knowledge of the domain and expertise to identify anomalies in the text. In this research, we discussed the problem of classifying fake news articles using machine learning models and ensemble techniques. The data we used in our work is collected from the World Wide Web and contains news articles from various domains to cover most of the news rather than specifically classifying political news. The primary aim of the research is to identify patterns in text that differentiate fake articles from true news. We extracted different textual features from the articles using an LIWC tool and used the feature set as an input to the models. The learning models were trained and parameter-tuned to obtain optimal accuracy. Some models have achieved comparatively higher accuracy than others. We used multiple performance metrics to compare the results for each algorithm. The ensemble learners have shown an overall better score on all performance metrics as compared to the individual learners.\n",
        "\n",
        "Fake news detection has many open issues that require attention of researchers. For instance, in order to reduce the spread of fake news, identifying key elements involved in the spread of news is an important step. Graph theory and machine learning techniques can be employed to identify the key sources involved in spread of fake news. Likewise, real time fake news identification in videos can be another possible future direction.</font>"
      ]
    }
  ]
}